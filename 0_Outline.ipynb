{
 "cells": [
  {
   "cell_type": "markdown",
   "metadata": {
    "slideshow": {
     "slide_type": "slide"
    }
   },
   "source": [
    "# Financial Modeling in Python\n",
    "* C.Y. Yen \n",
    "* July 2015 @Taichung.py\n",
    "\n"
   ]
  },
  {
   "cell_type": "markdown",
   "metadata": {
    "slideshow": {
     "slide_type": "slide"
    }
   },
   "source": [
    "#### Who am I ?\n",
    "* Yen\n",
    "* yen.chiayi@gmail.com\n",
    "* NTU Economics\n",
    "* 目前任職於本土避險基金財務工程師\n",
    "* 工作涵蓋\n",
    "    * 多因子模型的建構\n",
    "    * 資料 Extract-Transform-Load\n",
    "    * 機器學習\n",
    "    * 各種數值分析\n",
    "    \n",
    "##### --\n",
    " * 熱衷於參與 open source 社群活動，特別是與 Python 或 R 有關的活動\n",
    " * 是 TW R-Ladies 的發起人之一"
   ]
  },
  {
   "cell_type": "markdown",
   "metadata": {
    "slideshow": {
     "slide_type": "slide"
    }
   },
   "source": [
    "## Outline\n",
    "* Related Python toolkit\n",
    "* Machine Learning in Finance\n",
    "* Backtest Overfitting\n",
    "* How about R ?\n"
   ]
  },
  {
   "cell_type": "markdown",
   "metadata": {
    "slideshow": {
     "slide_type": "slide"
    }
   },
   "source": [
    "## Related Python toolkit\n",
    "\n",
    "* 平常在開發模型時，手邊的工具箱:\n",
    "    * IPython\n",
    "    * pandas\n",
    "    * SciPy, NumPy\n",
    "    * matplotlib, Seaborn\n",
    "    * scikit-learn, Statsmodels\n",
    "    * （當然 R 也是很好用的啦XD）\n",
    "\n",
    "* Useful Manual Book\n",
    "    * <a href='http://shop.oreilly.com/product/0636920023784.do'>Python for Data Analysis</a>\n",
    "    * <a href='http://shop.oreilly.com/product/0636920032441.do'>Python for Finance</a>\n",
    "* Website\n",
    "    * <a href='https://www.quantopian.com/algorithms/55b2ecde22f49606bf00003c'>quantopian</a>: 線上回測平台、社群\n",
    "    * <a href='https://www.quantopian.com/algorithms/55b2ecde22f49606bf00003c'>The Python Quant</a>： 線上研究平台、社群\n",
    "* Conference\n",
    "    * <a href='http://www.forpythonquants.com/'>For Python Quant Conference</a>"
   ]
  },
  {
   "cell_type": "code",
   "execution_count": 6,
   "metadata": {
    "collapsed": false,
    "slideshow": {
     "slide_type": "subslide"
    }
   },
   "outputs": [
    {
     "data": {
      "text/html": [
       "<div style=\"max-height:1000px;max-width:1500px;overflow:auto;\">\n",
       "<table border=\"1\" class=\"dataframe\">\n",
       "  <thead>\n",
       "    <tr style=\"text-align: right;\">\n",
       "      <th></th>\n",
       "      <th>Open</th>\n",
       "      <th>High</th>\n",
       "      <th>Low</th>\n",
       "      <th>Close</th>\n",
       "      <th>Volume</th>\n",
       "      <th>Adj Close</th>\n",
       "    </tr>\n",
       "    <tr>\n",
       "      <th>Date</th>\n",
       "      <th></th>\n",
       "      <th></th>\n",
       "      <th></th>\n",
       "      <th></th>\n",
       "      <th></th>\n",
       "      <th></th>\n",
       "    </tr>\n",
       "  </thead>\n",
       "  <tbody>\n",
       "    <tr>\n",
       "      <th>2015-07-20</th>\n",
       "      <td> 141.5</td>\n",
       "      <td> 142.0</td>\n",
       "      <td> 138.5</td>\n",
       "      <td> 139.0</td>\n",
       "      <td> 27655000</td>\n",
       "      <td> 139.0</td>\n",
       "    </tr>\n",
       "    <tr>\n",
       "      <th>2015-07-21</th>\n",
       "      <td> 141.0</td>\n",
       "      <td> 141.5</td>\n",
       "      <td> 139.5</td>\n",
       "      <td> 140.5</td>\n",
       "      <td> 19431000</td>\n",
       "      <td> 140.5</td>\n",
       "    </tr>\n",
       "    <tr>\n",
       "      <th>2015-07-22</th>\n",
       "      <td> 139.0</td>\n",
       "      <td> 139.5</td>\n",
       "      <td> 138.0</td>\n",
       "      <td> 139.0</td>\n",
       "      <td> 24620000</td>\n",
       "      <td> 139.0</td>\n",
       "    </tr>\n",
       "    <tr>\n",
       "      <th>2015-07-23</th>\n",
       "      <td> 137.0</td>\n",
       "      <td> 137.5</td>\n",
       "      <td> 136.0</td>\n",
       "      <td> 136.0</td>\n",
       "      <td> 36389000</td>\n",
       "      <td> 136.0</td>\n",
       "    </tr>\n",
       "    <tr>\n",
       "      <th>2015-07-24</th>\n",
       "      <td> 138.0</td>\n",
       "      <td> 138.0</td>\n",
       "      <td> 136.0</td>\n",
       "      <td> 137.0</td>\n",
       "      <td> 38194000</td>\n",
       "      <td> 137.0</td>\n",
       "    </tr>\n",
       "  </tbody>\n",
       "</table>\n",
       "<p>5 rows × 6 columns</p>\n",
       "</div>"
      ],
      "text/plain": [
       "             Open   High    Low  Close    Volume  Adj Close\n",
       "Date                                                       \n",
       "2015-07-20  141.5  142.0  138.5  139.0  27655000      139.0\n",
       "2015-07-21  141.0  141.5  139.5  140.5  19431000      140.5\n",
       "2015-07-22  139.0  139.5  138.0  139.0  24620000      139.0\n",
       "2015-07-23  137.0  137.5  136.0  136.0  36389000      136.0\n",
       "2015-07-24  138.0  138.0  136.0  137.0  38194000      137.0\n",
       "\n",
       "[5 rows x 6 columns]"
      ]
     },
     "execution_count": 6,
     "metadata": {},
     "output_type": "execute_result"
    }
   ],
   "source": [
    "import pandas.io.data as web\n",
    "df = web.DataReader('2330.TW', data_source='yahoo')\n",
    "df.tail()"
   ]
  },
  {
   "cell_type": "markdown",
   "metadata": {
    "slideshow": {
     "slide_type": "slide"
    }
   },
   "source": [
    "## Machine Learning in Finance\n",
    "\n",
    "* 幾個常用的 ML 模型\n",
    "    * <a href='http://nbviewer.ipython.org/format/slides/github/exilespacer/taichung.py/blob/master/1_LinearRegression.ipynb'>Linear Regression </a>\n",
    "    * <a href='http://nbviewer.ipython.org/format/slides/github/exilespacer/taichung.py/blob/master/2_PCA.ipynb'>Priciple Component Analysis</a>\n",
    "    * <a href='http://nbviewer.ipython.org/format/slides/github/exilespacer/taichung.py/blob/master/3_HCA.ipynb/'>Hierarchy Cluster Analysis </a>\n",
    "\n",
    "* 使用公開的案例作分享 "
   ]
  },
  {
   "cell_type": "markdown",
   "metadata": {
    "slideshow": {
     "slide_type": "slide"
    }
   },
   "source": [
    "## Backtest Overfitting\n",
    "\n",
    "* 容易犯的錯誤\n",
    "    * survival bias\n",
    "    * looking-forward bias\n",
    "    * backtest overfitting \n",
    "    \n",
    "\n",
    "* <a href='http://nbviewer.ipython.org/format/slides/github/exilespacer/ProbabilityOfBacktestOverfitting/blob/master/Probability_of_overfitting.ipynb#/'>Probability of Backtest Overfitting</a>\n"
   ]
  },
  {
   "cell_type": "markdown",
   "metadata": {
    "slideshow": {
     "slide_type": "slide"
    }
   },
   "source": [
    "# Thank you for your attention :)\n"
   ]
  }
 ],
 "metadata": {
  "celltoolbar": "Slideshow",
  "kernelspec": {
   "display_name": "Python 2",
   "language": "python",
   "name": "python2"
  },
  "language_info": {
   "codemirror_mode": {
    "name": "ipython",
    "version": 2
   },
   "file_extension": ".py",
   "mimetype": "text/x-python",
   "name": "python",
   "nbconvert_exporter": "python",
   "pygments_lexer": "ipython2",
   "version": "2.7.6"
  }
 },
 "nbformat": 4,
 "nbformat_minor": 0
}
