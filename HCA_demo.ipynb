{
 "cells": [
  {
   "cell_type": "markdown",
   "metadata": {},
   "source": [
    "# Hierarchy Cluster Analysis\n",
    "\n",
    "### 摘要\n",
    "* 一種「分群」的技術\n",
    "* 將距離近的資料點視為同一群\n",
    "* 距離的定義：歐式距離、相關性距離\n",
    "* Dendrogram (二元樹)：高度相當於兩群合併時的距離"
   ]
  },
  {
   "cell_type": "markdown",
   "metadata": {},
   "source": [
    "### 分群方式\n",
    "* agglomerative （自上而下）：從樹底開始聚合，逐層往上分離\n",
    "* divisive  （自上而下）：從樹頂開始分裂，逐層往下分群"
   ]
  },
  {
   "cell_type": "markdown",
   "metadata": {},
   "source": [
    "### 方法\n",
    "* 每個資料點屬於一個群，計算群之間的距離，將距離最近的兩個群合併，重新計算群的距離以及合併，重複至只剩一個群為止\n",
    "* 群距離的計算：linkage\n",
    "    * single-linkage: 最近\n",
    "    * complete-linkage：最遠\n",
    "    * group average：兩組間各點的平均距離\n",
    "    * ward's method: 合併後到群中心的距離"
   ]
  },
  {
   "cell_type": "markdown",
   "metadata": {},
   "source": [
    "### 小心使用\n",
    "* 優點：\n",
    "    * 概念簡單，只需要知道兩兩距離\n",
    "    * 事先不需要知道群數，依據 Dendrogram 數可決定橫切點，得到指定的群數\n",
    " \n",
    "* 缺點：只適用於少量資料"
   ]
  },
  {
   "cell_type": "markdown",
   "metadata": {},
   "source": [
    "### 然後呢，可以幹嘛？\n",
    "* 投資組合分散風險\n",
    "* 因子類型分群"
   ]
  },
  {
   "cell_type": "markdown",
   "metadata": {},
   "source": [
    "#### 投資組合分散風險\n",
    "* \"It's not the number of asset classes that determines diversification; it's the correlation among those asset classes that determines diversification.\" \n",
    "* Momentum Investing Using Low Correlated ETFs \n",
    "* http://seekingalpha.com/article/1816552-momentum-investing-using-low-correlated-etfs\n",
    "* 配權重在不同長相的標的上，使投資組合更穩健"
   ]
  },
  {
   "cell_type": "markdown",
   "metadata": {},
   "source": [
    "#### 因子類型分群\n",
    "* multi-factor model"
   ]
  },
  {
   "cell_type": "markdown",
   "metadata": {},
   "source": [
    "https://systematicinvestor.wordpress.com/2012/12/29/clustering-with-selected-principal-components/"
   ]
  },
  {
   "cell_type": "code",
   "execution_count": null,
   "metadata": {
    "collapsed": true
   },
   "outputs": [],
   "source": []
  }
 ],
 "metadata": {
  "kernelspec": {
   "display_name": "Python 2",
   "language": "python",
   "name": "python2"
  },
  "language_info": {
   "codemirror_mode": {
    "name": "ipython",
    "version": 2
   },
   "file_extension": ".py",
   "mimetype": "text/x-python",
   "name": "python",
   "nbconvert_exporter": "python",
   "pygments_lexer": "ipython2",
   "version": "2.7.6"
  }
 },
 "nbformat": 4,
 "nbformat_minor": 0
}
