{
 "cells": [
  {
   "cell_type": "markdown",
   "metadata": {
    "slideshow": {
     "slide_type": "slide"
    }
   },
   "source": [
    "<br>\n",
    "<br>\n",
    "### 主成份分析 Principle Component Analysis\n",
    "\n",
    "<img src=\"fig/spy_iwm_pca.png\" height=430>\n",
    "reference: http://matlab-trading.blogspot.tw/2012/12/pca-how-it-really-works.html\n",
    "#### 關鍵字：降維、代表性個體"
   ]
  },
  {
   "cell_type": "code",
   "execution_count": 2,
   "metadata": {
    "collapsed": true,
    "slideshow": {
     "slide_type": "notes"
    }
   },
   "outputs": [],
   "source": [
    "%matplotlib inline"
   ]
  },
  {
   "cell_type": "code",
   "execution_count": 3,
   "metadata": {
    "collapsed": true,
    "slideshow": {
     "slide_type": "notes"
    }
   },
   "outputs": [],
   "source": [
    "import pandas as pd\n",
    "import numpy as np\n",
    "import matplotlib.pylab as plt\n",
    "import seaborn"
   ]
  },
  {
   "cell_type": "markdown",
   "metadata": {
    "slideshow": {
     "slide_type": "slide"
    }
   },
   "source": [
    "* 是一種「降維」的技術\n",
    "* 想像一個情境，如果必須要從資料中剔除一個比較沒用的因子，你會選哪個？"
   ]
  },
  {
   "cell_type": "code",
   "execution_count": 4,
   "metadata": {
    "collapsed": false,
    "slideshow": {
     "slide_type": "subslide"
    }
   },
   "outputs": [
    {
     "data": {
      "text/html": [
       "<div style=\"max-height:1000px;max-width:1500px;overflow:auto;\">\n",
       "<table border=\"1\" class=\"dataframe\">\n",
       "  <thead>\n",
       "    <tr style=\"text-align: right;\">\n",
       "      <th></th>\n",
       "      <th>factor1</th>\n",
       "      <th>factor2</th>\n",
       "    </tr>\n",
       "  </thead>\n",
       "  <tbody>\n",
       "    <tr>\n",
       "      <th>0</th>\n",
       "      <td>-0.420843</td>\n",
       "      <td> 1.0</td>\n",
       "    </tr>\n",
       "    <tr>\n",
       "      <th>1</th>\n",
       "      <td> 0.062345</td>\n",
       "      <td> 1.0</td>\n",
       "    </tr>\n",
       "    <tr>\n",
       "      <th>2</th>\n",
       "      <td> 0.754617</td>\n",
       "      <td> 1.0</td>\n",
       "    </tr>\n",
       "    <tr>\n",
       "      <th>3</th>\n",
       "      <td>-0.088110</td>\n",
       "      <td> 1.0</td>\n",
       "    </tr>\n",
       "    <tr>\n",
       "      <th>4</th>\n",
       "      <td> 0.154917</td>\n",
       "      <td> 1.0</td>\n",
       "    </tr>\n",
       "    <tr>\n",
       "      <th>5</th>\n",
       "      <td> 1.687405</td>\n",
       "      <td> 1.0</td>\n",
       "    </tr>\n",
       "    <tr>\n",
       "      <th>6</th>\n",
       "      <td>-0.958031</td>\n",
       "      <td> 1.0</td>\n",
       "    </tr>\n",
       "    <tr>\n",
       "      <th>7</th>\n",
       "      <td> 0.719325</td>\n",
       "      <td> 1.0</td>\n",
       "    </tr>\n",
       "    <tr>\n",
       "      <th>8</th>\n",
       "      <td>-0.151882</td>\n",
       "      <td> 1.0</td>\n",
       "    </tr>\n",
       "    <tr>\n",
       "      <th>9</th>\n",
       "      <td> 1.548154</td>\n",
       "      <td> 1.1</td>\n",
       "    </tr>\n",
       "  </tbody>\n",
       "</table>\n",
       "<p>10 rows × 2 columns</p>\n",
       "</div>"
      ],
      "text/plain": [
       "    factor1  factor2\n",
       "0 -0.420843      1.0\n",
       "1  0.062345      1.0\n",
       "2  0.754617      1.0\n",
       "3 -0.088110      1.0\n",
       "4  0.154917      1.0\n",
       "5  1.687405      1.0\n",
       "6 -0.958031      1.0\n",
       "7  0.719325      1.0\n",
       "8 -0.151882      1.0\n",
       "9  1.548154      1.1\n",
       "\n",
       "[10 rows x 2 columns]"
      ]
     },
     "execution_count": 4,
     "metadata": {},
     "output_type": "execute_result"
    }
   ],
   "source": [
    "df = pd.read_csv('data/pca_demo1.csv', header=0)\n",
    "df"
   ]
  },
  {
   "cell_type": "code",
   "execution_count": 5,
   "metadata": {
    "collapsed": false,
    "slideshow": {
     "slide_type": "subslide"
    }
   },
   "outputs": [
    {
     "data": {
      "text/plain": [
       "<matplotlib.axes.AxesSubplot at 0x7f90eb6d7710>"
      ]
     },
     "execution_count": 5,
     "metadata": {},
     "output_type": "execute_result"
    },
    {
     "data": {
      "image/png": "[encoded data removed]",
      "text/plain": [
       "<matplotlib.figure.Figure at 0x7f90eb6d7290>"
      ]
     },
     "metadata": {},
     "output_type": "display_data"
    }
   ],
   "source": [
    "df.plot(x='factor1', y='factor2', kind='scatter')"
   ]
  },
  {
   "cell_type": "markdown",
   "metadata": {
    "slideshow": {
     "slide_type": "slide"
    }
   },
   "source": [
    "## 當然是剔除資訊含量比較少的因子！\n",
    "\n",
    "* PCA 對「資訊含量」的定義：歧異度為王\n",
    "* factor1 >> factor2"
   ]
  },
  {
   "cell_type": "markdown",
   "metadata": {
    "slideshow": {
     "slide_type": "slide"
    }
   },
   "source": [
    "### 重新詮釋 PCA\n",
    "* 把高維度資料 summarize 成一群低維度資料，同時保存大部分的資訊，避免在降維的過程中損失太多資訊\n",
    "* 這裡指的「資訊含量」是以 variation & correlation 的面向來定義，可以想成就是 Covariance Matrix"
   ]
  },
  {
   "cell_type": "code",
   "execution_count": 37,
   "metadata": {
    "collapsed": false,
    "slideshow": {
     "slide_type": "subslide"
    }
   },
   "outputs": [
    {
     "data": {
      "text/html": [
       "<div style=\"max-height:1000px;max-width:1500px;overflow:auto;\">\n",
       "<table border=\"1\" class=\"dataframe\">\n",
       "  <thead>\n",
       "    <tr style=\"text-align: right;\">\n",
       "      <th></th>\n",
       "      <th>factor1</th>\n",
       "      <th>factor2</th>\n",
       "    </tr>\n",
       "  </thead>\n",
       "  <tbody>\n",
       "    <tr>\n",
       "      <th>factor1</th>\n",
       "      <td> 0.710047</td>\n",
       "      <td> 0.013526</td>\n",
       "    </tr>\n",
       "    <tr>\n",
       "      <th>factor2</th>\n",
       "      <td> 0.013526</td>\n",
       "      <td> 0.001000</td>\n",
       "    </tr>\n",
       "  </tbody>\n",
       "</table>\n",
       "<p>2 rows × 2 columns</p>\n",
       "</div>"
      ],
      "text/plain": [
       "          factor1   factor2\n",
       "factor1  0.710047  0.013526\n",
       "factor2  0.013526  0.001000\n",
       "\n",
       "[2 rows x 2 columns]"
      ]
     },
     "execution_count": 37,
     "metadata": {},
     "output_type": "execute_result"
    }
   ],
   "source": [
    "df.cov()"
   ]
  },
  {
   "cell_type": "markdown",
   "metadata": {
    "slideshow": {
     "slide_type": "slide"
    }
   },
   "source": [
    "### 重新詮釋 PCA：擒賊先擒王\n",
    "* 把高維度資料 summarize 成一群低維度資料，同時保存大部分的資訊，避免在降維的過程中損失太多資訊\n",
    "* 這裡指的「資訊含量」是以 variation & correlation 的面向來定義，可以想成就是 Covariance Matrix\n",
    "    <br><br>\n",
    "* 縮減高度相關的維度 =>  principle component\n",
    "* 什麼是 principle component?  一股看不到的力量控制著那些高相關的維度\n",
    "* 舉個例子，一個媽媽與他的男孩們，兩個媽媽與他們的男孩"
   ]
  },
  {
   "cell_type": "markdown",
   "metadata": {
    "slideshow": {
     "slide_type": "slide"
    }
   },
   "source": [
    "### 回過頭來看看圖\n",
    "* 我的解讀是「找出蘊含最大岐異程度的軸」\n",
    "* Where're 1st PC/ 2nd PC ?\n",
    "* linear regression equation 與 1st PC  意義相似\n",
    "<img src=\"fig/spy_iwm_pca.png\" height=430>\n",
    "reference:http://matlab-trading.blogspot.tw/2012/12/pca-how-it-really-works.html"
   ]
  },
  {
   "cell_type": "markdown",
   "metadata": {
    "slideshow": {
     "slide_type": "subslide"
    }
   },
   "source": [
    "<img src=\"fig/pca_transform.gif\" height=430>\n",
    "reference:https://onlinecourses.science.psu.edu/stat557/node/21"
   ]
  },
  {
   "cell_type": "markdown",
   "metadata": {
    "slideshow": {
     "slide_type": "slide"
    }
   },
   "source": [
    "### 數學意涵: eigen-value decomposition\n",
    "<br><br>\n",
    "$$A=U \\Lambda U^T$$\n",
    "$where $\n",
    "$$U \\text{ are eigenvectors}$$\n",
    "$$\\Lambda \\text{ are eigenvalues}$$"
   ]
  },
  {
   "cell_type": "markdown",
   "metadata": {
    "slideshow": {
     "slide_type": "slide"
    }
   },
   "source": [
    "### 小心使用\n",
    "* 優點：任何資料都可以有效率的降維\n",
    "* 缺點：難以解釋，某些 case 可以有理論因子作為 principle components 的類比\n",
    "* 建立在 covariance matrix 上，因此需要穩定的相關性， 在複製大盤的例子中，我們會看到這個問題。\n",
    "* 警告：多了解模型，再使用。"
   ]
  },
  {
   "cell_type": "markdown",
   "metadata": {
    "slideshow": {
     "slide_type": "slide"
    }
   },
   "source": [
    "### 例子：複製大盤\n",
    "reference: https://github.com/carljv/Will_it_Python/blob/master/MLFH/ch8/ch8.ipynb"
   ]
  },
  {
   "cell_type": "markdown",
   "metadata": {
    "slideshow": {
     "slide_type": "slide"
    }
   },
   "source": [
    "### 變異解釋度\n",
    "* 有多少資訊損失\n",
    "* eigenvalue\n",
    "\n",
    "### 因子權重\n",
    "* 1st principle components 視為 the market，當 component 上，因子反應的方向與力道與權重有關。"
   ]
  },
  {
   "cell_type": "markdown",
   "metadata": {
    "collapsed": true,
    "slideshow": {
     "slide_type": "slide"
    }
   },
   "source": [
    "###  然後呢？可以幹嘛？\n",
    "* Using PCA for spread trading\n",
    "* http://matlab-trading.blogspot.ca/2012/12/using-pca-for-spread-trading.html"
   ]
  }
 ],
 "metadata": {
  "celltoolbar": "Slideshow",
  "kernelspec": {
   "display_name": "Python 2",
   "language": "python",
   "name": "python2"
  },
  "language_info": {
   "codemirror_mode": {
    "name": "ipython",
    "version": 2
   },
   "file_extension": ".py",
   "mimetype": "text/x-python",
   "name": "python",
   "nbconvert_exporter": "python",
   "pygments_lexer": "ipython2",
   "version": "2.7.6"
  }
 },
 "nbformat": 4,
 "nbformat_minor": 0
}
