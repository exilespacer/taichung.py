{
 "cells": [
  {
   "cell_type": "markdown",
   "metadata": {},
   "source": [
    "# Financial Modeling in Python\n",
    "* C.Y. Yen \n",
    "* yen.chiayi@gmail.com\n",
    "* 2015.07.25 @Taichung.py\n",
    "\n"
   ]
  },
  {
   "cell_type": "markdown",
   "metadata": {},
   "source": [
    "## Outline\n",
    "* Related Python toolkit\n",
    "* Machine Learning in Finance\n",
    "* Backtest Overfitting\n",
    "* How about R ?\n"
   ]
  },
  {
   "cell_type": "markdown",
   "metadata": {},
   "source": [
    "## Related Python toolkit\n",
    "最後是我會跟大家分享，平常在開發資產組合時，手邊常用的工具，像是：IPython、pandas、SciPy、NumPy、matplotlib、Seaborn、scikit-learn、Statsmodels。（當然 R 也是很好用的啦XD）\n",
    "\n",
    "書：Python for Data Analysis\n",
    "website: quantopian\n",
    "conference: PyQuant"
   ]
  },
  {
   "cell_type": "markdown",
   "metadata": {},
   "source": [
    "## Machine Learning in Finance\n",
    "* Linear Regression(判斷因子方向)\n",
    "* Hierarchy Cluster Analysis （去除高相關）\n",
    "* Priciple Component Analysis （DAX）\n",
    "\n",
    "交易不外乎是兩個大哉問：擇時、擇股。透過某些機器學習演算法，可以幫助我們解答這兩個問題。這裡我會介紹一些我常用的模型，像是：Principle Component Analysis、Linear Discrimination、Linear Regression、Hierarchy Cluster Analysis 等等，並且提出一些可能的應用作為範例。\n",
    "附上大陸卷商報告 reference 避免傾權~\n"
   ]
  },
  {
   "cell_type": "markdown",
   "metadata": {},
   "source": []
  },
  {
   "cell_type": "markdown",
   "metadata": {},
   "source": [
    "## Backtest Overfitting\n",
    "在開發資產組合時，如果沒有注意，很容易會發生一些常見錯誤，像是： survival bias、looking-forward bias、overfitting 等等，其中我認為最難解決也最令人害怕的是 overfitting，這邊我會提出一些可能的解法。  \n",
    "\n",
    "You never know how to build a successful portfolio that always gives you significant return, but you definitely should know what would make you build a model that is doomed to be a failure. \n",
    "\n",
    "Overfitting is the most common one. In the brief talk, I would like to share some experience how to avoid overfitting. At least in some ways.\n",
    "\n",
    "The examples would be shown in Python toolkit like ipython, pandas, numpy, matplotlib, and seaborn.\n"
   ]
  },
  {
   "cell_type": "markdown",
   "metadata": {},
   "source": [
    "## How about R in Finance?\n",
    "基礎R語言與商業應用：第八章股票市場的預測 導讀 \n",
    "同場加映這本書關於股票的應用（很巧也是第八章XD），這個段落介紹了其他 Machine Learning 演算法在股市的應用，包括：Random Forest、Support Vector Machine。主要會使用到的套件包括：quantmod 以及 xts，有興趣的會眾可以先安裝喔！（至於為什麼我會知道這本書呢？這就要感謝 Clio Chen 舉辦的「R商業應用」讀書會了，有興趣的趕快聯絡他~） \n",
    "\n"
   ]
  },
  {
   "cell_type": "code",
   "execution_count": null,
   "metadata": {
    "collapsed": true
   },
   "outputs": [],
   "source": []
  }
 ],
 "metadata": {
  "kernelspec": {
   "display_name": "Python 2",
   "language": "python",
   "name": "python2"
  },
  "language_info": {
   "codemirror_mode": {
    "name": "ipython",
    "version": 2
   },
   "file_extension": ".py",
   "mimetype": "text/x-python",
   "name": "python",
   "nbconvert_exporter": "python",
   "pygments_lexer": "ipython2",
   "version": "2.7.6"
  }
 },
 "nbformat": 4,
 "nbformat_minor": 0
}
