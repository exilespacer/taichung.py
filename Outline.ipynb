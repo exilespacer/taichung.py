{
 "cells": [
  {
   "cell_type": "markdown",
   "metadata": {
    "slideshow": {
     "slide_type": "slide"
    }
   },
   "source": [
    "# Financial Modeling in Python\n",
    "* C.Y. Yen \n",
    "* July 2015 @Taichung.py\n",
    "\n"
   ]
  },
  {
   "cell_type": "markdown",
   "metadata": {
    "slideshow": {
     "slide_type": "slide"
    }
   },
   "source": [
    "#### Who am I ?\n",
    "* Yen\n",
    "* yen.chiayi@gmail.com\n",
    "* NTU Economics\n",
    "* 目前任職於本土避險基金財務工程師\n",
    "* 工作涵蓋\n",
    "    * 多因子模型的建構\n",
    "    * 資料 Extract-Transform-Load\n",
    "    * 機器學習\n",
    "    * 各種數值分析\n",
    "    \n",
    "##### --\n",
    " * 熱衷於參與 open source 社群活動，特別是與 Python 或 R 有關的活動\n",
    " * 是 TW R-Ladies 的發起人之一"
   ]
  },
  {
   "cell_type": "markdown",
   "metadata": {
    "slideshow": {
     "slide_type": "slide"
    }
   },
   "source": [
    "## Outline\n",
    "* Related Python toolkit\n",
    "* Machine Learning in Finance\n",
    "* Backtest Overfitting\n",
    "* How about R ?\n"
   ]
  },
  {
   "cell_type": "markdown",
   "metadata": {
    "slideshow": {
     "slide_type": "slide"
    }
   },
   "source": [
    "## Related Python toolkit\n",
    "\n",
    "* 平常在開發模型時，手邊的工具箱:\n",
    "    * IPython\n",
    "    * pandas\n",
    "    * SciPy\n",
    "    * NumPy\n",
    "    * matplotlib、Seaborn\n",
    "    * scikit-learn\n",
    "    * Statsmodels\n",
    "    * （當然 R 也是很好用的啦XD）\n",
    "\n",
    "* Useful Manual Book\n",
    "    * <a href='http://shop.oreilly.com/product/0636920023784.do'>Python for Data Analysis</a>\n",
    "    * <a href='http://shop.oreilly.com/product/0636920032441.do'>Python for Finance</a>\n",
    "* Website\n",
    "    * <a href='https://www.quantopian.com/algorithms/55b2ecde22f49606bf00003c'>quantopian</a>: 線上回測平台、社群\n",
    "    * <a href='https://www.quantopian.com/algorithms/55b2ecde22f49606bf00003c'>The Python Quant</a>： 線上研究平台、社群\n",
    "* Conference\n",
    "    * <a href='http://www.forpythonquants.com/'>For Python Quant Conference</a>"
   ]
  },
  {
   "cell_type": "markdown",
   "metadata": {
    "slideshow": {
     "slide_type": "slide"
    }
   },
   "source": [
    "## Machine Learning in Finance\n",
    "\n",
    "* 幾個常用的 ML 模型\n",
    "    * Linear Regression \n",
    "    * <a herf='http://nbviewer.ipython.org/format/slides/github/exilespacer/taichung.py/blob/master/PCA.ipynb'>Priciple Component Analysis</a>\n",
    "    * <a href='http://nbviewer.ipython.org/format/slides/github/exilespacer/taichung.py/blob/master/HCA.ipynb#/'>Hierarchy Cluster Analysis </a>\n",
    "\n",
    "* 使用公開的案例作分享 "
   ]
  },
  {
   "cell_type": "markdown",
   "metadata": {
    "slideshow": {
     "slide_type": "slide"
    }
   },
   "source": [
    "## Backtest Overfitting\n",
    "\n",
    "* 容易犯的錯誤\n",
    "    * survival bias\n",
    "    * looking-forward bias\n",
    "    * backtest overfitting \n",
    "    \n",
    "\n",
    "* <a href='http://nbviewer.ipython.org/format/slides/github/exilespacer/ProbabilityOfBacktestOverfitting/blob/master/Probability_of_overfitting.ipynb#/'>Probability of Backtest Overfitting</a>\n"
   ]
  },
  {
   "cell_type": "markdown",
   "metadata": {
    "slideshow": {
     "slide_type": "slide"
    }
   },
   "source": [
    "# Thank you for your attention :)\n"
   ]
  }
 ],
 "metadata": {
  "celltoolbar": "Slideshow",
  "kernelspec": {
   "display_name": "Python 2",
   "language": "python",
   "name": "python2"
  },
  "language_info": {
   "codemirror_mode": {
    "name": "ipython",
    "version": 2
   },
   "file_extension": ".py",
   "mimetype": "text/x-python",
   "name": "python",
   "nbconvert_exporter": "python",
   "pygments_lexer": "ipython2",
   "version": "2.7.6"
  }
 },
 "nbformat": 4,
 "nbformat_minor": 0
}
